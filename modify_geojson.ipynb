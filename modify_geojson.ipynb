{
 "cells": [
  {
   "cell_type": "code",
   "execution_count": 1,
   "id": "equal-alexander",
   "metadata": {},
   "outputs": [],
   "source": [
    "import json\n",
    "import random\n",
    "import pandas as pd"
   ]
  },
  {
   "cell_type": "code",
   "execution_count": 2,
   "id": "featured-conflict",
   "metadata": {},
   "outputs": [],
   "source": [
    "with open(\"data/country.geojson\") as file:\n",
    "    json_decoded = json.load(file)"
   ]
  },
  {
   "cell_type": "code",
   "execution_count": 3,
   "id": "forced-specialist",
   "metadata": {},
   "outputs": [
    {
     "data": {
      "text/html": [
       "<div>\n",
       "<style scoped>\n",
       "    .dataframe tbody tr th:only-of-type {\n",
       "        vertical-align: middle;\n",
       "    }\n",
       "\n",
       "    .dataframe tbody tr th {\n",
       "        vertical-align: top;\n",
       "    }\n",
       "\n",
       "    .dataframe thead th {\n",
       "        text-align: right;\n",
       "    }\n",
       "</style>\n",
       "<table border=\"1\" class=\"dataframe\">\n",
       "  <thead>\n",
       "    <tr style=\"text-align: right;\">\n",
       "      <th></th>\n",
       "      <th>country</th>\n",
       "      <th>iso_abr</th>\n",
       "      <th>year</th>\n",
       "      <th>suicides_no</th>\n",
       "      <th>population</th>\n",
       "      <th>suicides_per100kpop</th>\n",
       "    </tr>\n",
       "  </thead>\n",
       "  <tbody>\n",
       "    <tr>\n",
       "      <th>0</th>\n",
       "      <td>Albania</td>\n",
       "      <td>ALB</td>\n",
       "      <td>2002</td>\n",
       "      <td>133</td>\n",
       "      <td>2818839</td>\n",
       "      <td>4.72</td>\n",
       "    </tr>\n",
       "    <tr>\n",
       "      <th>1</th>\n",
       "      <td>Albania</td>\n",
       "      <td>ALB</td>\n",
       "      <td>2003</td>\n",
       "      <td>124</td>\n",
       "      <td>2843929</td>\n",
       "      <td>4.36</td>\n",
       "    </tr>\n",
       "    <tr>\n",
       "      <th>2</th>\n",
       "      <td>Albania</td>\n",
       "      <td>ALB</td>\n",
       "      <td>2004</td>\n",
       "      <td>146</td>\n",
       "      <td>2874991</td>\n",
       "      <td>5.08</td>\n",
       "    </tr>\n",
       "    <tr>\n",
       "      <th>3</th>\n",
       "      <td>Albania</td>\n",
       "      <td>ALB</td>\n",
       "      <td>2005</td>\n",
       "      <td>0</td>\n",
       "      <td>2783320</td>\n",
       "      <td>0.00</td>\n",
       "    </tr>\n",
       "    <tr>\n",
       "      <th>4</th>\n",
       "      <td>Albania</td>\n",
       "      <td>ALB</td>\n",
       "      <td>2006</td>\n",
       "      <td>0</td>\n",
       "      <td>2780176</td>\n",
       "      <td>0.00</td>\n",
       "    </tr>\n",
       "  </tbody>\n",
       "</table>\n",
       "</div>"
      ],
      "text/plain": [
       "   country iso_abr  year  suicides_no  population  suicides_per100kpop\n",
       "0  Albania     ALB  2002          133     2818839                 4.72\n",
       "1  Albania     ALB  2003          124     2843929                 4.36\n",
       "2  Albania     ALB  2004          146     2874991                 5.08\n",
       "3  Albania     ALB  2005            0     2783320                 0.00\n",
       "4  Albania     ALB  2006            0     2780176                 0.00"
      ]
     },
     "execution_count": 3,
     "metadata": {},
     "output_type": "execute_result"
    }
   ],
   "source": [
    "suicide_country_year = pd.read_csv(\"output data/suicide_country_year.csv\", index_col=0)\n",
    "suicide_country_year.head()"
   ]
  },
  {
   "cell_type": "code",
   "execution_count": 4,
   "id": "36851517",
   "metadata": {},
   "outputs": [
    {
     "data": {
      "text/plain": [
       "country                 object\n",
       "iso_abr                 object\n",
       "year                     int64\n",
       "suicides_no              int64\n",
       "population               int64\n",
       "suicides_per100kpop    float64\n",
       "dtype: object"
      ]
     },
     "execution_count": 4,
     "metadata": {},
     "output_type": "execute_result"
    }
   ],
   "source": [
    "suicide_country_year.dtypes"
   ]
  },
  {
   "cell_type": "code",
   "execution_count": 5,
   "id": "a4736746",
   "metadata": {},
   "outputs": [],
   "source": [
    "#json_decoded"
   ]
  },
  {
   "cell_type": "code",
   "execution_count": 6,
   "id": "invisible-solomon",
   "metadata": {},
   "outputs": [],
   "source": [
    "for feature in json_decoded['features']:\n",
    "    for year in range(2002,2017):\n",
    "\n",
    "        country = feature['properties']['ISO_A3']\n",
    "\n",
    "        try:\n",
    "            suicide_rate = suicide_country_year.loc[(suicide_country_year.year==year)&(suicide_country_year.iso_abr==country)].suicides_per100kpop.item()\n",
    "            feature['properties'][f's{year}'] = suicide_rate\n",
    "        except ValueError:\n",
    "            feature['properties'][f's{year}'] = 0\n",
    "\n",
    "        # feature2002.append(feature['properties'])"
   ]
  },
  {
   "cell_type": "code",
   "execution_count": 7,
   "id": "hungry-examination",
   "metadata": {},
   "outputs": [],
   "source": [
    "with open(\"output data/country_15years.geojson\", 'w') as outfile:\n",
    "    json.dump(json_decoded, outfile)"
   ]
  },
  {
   "cell_type": "code",
   "execution_count": 8,
   "id": "af472cf4",
   "metadata": {},
   "outputs": [],
   "source": [
    "#json_decoded"
   ]
  },
  {
   "cell_type": "code",
   "execution_count": null,
   "id": "a61a2407",
   "metadata": {},
   "outputs": [],
   "source": []
  }
 ],
 "metadata": {
  "kernelspec": {
   "display_name": "Python 3",
   "language": "python",
   "name": "python3"
  },
  "language_info": {
   "codemirror_mode": {
    "name": "ipython",
    "version": 3
   },
   "file_extension": ".py",
   "mimetype": "text/x-python",
   "name": "python",
   "nbconvert_exporter": "python",
   "pygments_lexer": "ipython3",
   "version": "3.8.8"
  }
 },
 "nbformat": 4,
 "nbformat_minor": 5
}
